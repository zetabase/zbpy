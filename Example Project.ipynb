{
 "cells": [
  {
   "cell_type": "markdown",
   "metadata": {},
   "source": [
    "# Create your Zetabase account"
   ]
  },
  {
   "cell_type": "code",
   "execution_count": null,
   "metadata": {},
   "outputs": [],
   "source": [
    "from zbpy import client "
   ]
  },
  {
   "cell_type": "code",
   "execution_count": null,
   "metadata": {},
   "outputs": [],
   "source": [
    "%createaccount"
   ]
  },
  {
   "cell_type": "markdown",
   "metadata": {},
   "source": [
    "# Create a pandas DataFrame "
   ]
  },
  {
   "cell_type": "code",
   "execution_count": null,
   "metadata": {},
   "outputs": [],
   "source": [
    "import pandas as pd \n",
    "from sklearn import datasets\n",
    "import numpy as np\n",
    "\n",
    "data = pd.read_csv('datasets/train.csv')"
   ]
  },
  {
   "cell_type": "markdown",
   "metadata": {},
   "source": [
    "---\n",
    "# Set up your Zetabase client with either ecdsa or jwt security:"
   ]
  },
  {
   "cell_type": "markdown",
   "metadata": {},
   "source": [
    "### Ecdsa  "
   ]
  },
  {
   "cell_type": "code",
   "execution_count": null,
   "metadata": {},
   "outputs": [],
   "source": [
    "pub_key = client.import_key('./zb/zetabase.1591621160.pub', public=True)\n",
    "priv_key = client.import_key('./zb/zetabase.1591621160.priv', public=False)\n",
    "\n",
    "zb = client.ZetabaseClient('18259baf-b9e7-4cbd-9027-ca6a4dae1af1')\n",
    "zb.connect()\n",
    "zb.set_id_key(priv_key, pub_key)"
   ]
  },
  {
   "cell_type": "markdown",
   "metadata": {},
   "source": [
    "### Jwt "
   ]
  },
  {
   "cell_type": "code",
   "execution_count": null,
   "metadata": {},
   "outputs": [],
   "source": [
    "zb = client.ZetabaseClient('18259baf-b9e7-4cbd-9027-ca6a4dae1af1')\n",
    "zb.connect()\n",
    "zb.set_id_password('test_user', 'test_pass')\n",
    "zb.auth_login_jwt()"
   ]
  },
  {
   "cell_type": "markdown",
   "metadata": {},
   "source": [
    "---\n",
    "# Insert your DataFrames into an existing Zetabase table or create a new one with indexed fields based on the columns of your dataframe! "
   ]
  },
  {
   "cell_type": "markdown",
   "metadata": {},
   "source": [
    "### Inserting into existing table"
   ]
  },
  {
   "cell_type": "code",
   "execution_count": null,
   "metadata": {},
   "outputs": [],
   "source": [
    "zb.put_dataframe('titanic', data, 'raw')"
   ]
  },
  {
   "cell_type": "markdown",
   "metadata": {},
   "source": [
    "### Inserting into new table"
   ]
  },
  {
   "cell_type": "code",
   "execution_count": null,
   "metadata": {},
   "outputs": [],
   "source": [
    "zb.put_dataframe_new_table('titanic_a14', data, 'raw', allow_jwt=True)"
   ]
  },
  {
   "cell_type": "markdown",
   "metadata": {},
   "source": [
    "---\n",
    "# List keys from your table, retrieve your data, and convert it back to pandas DataFrames"
   ]
  },
  {
   "cell_type": "code",
   "execution_count": null,
   "metadata": {
    "scrolled": true
   },
   "outputs": [],
   "source": [
    "list_keys = zb.list_keys('titanic_a14')\n",
    "\n",
    "keys = [key for key in list_keys]\n",
    "\n",
    "output_data = zb.get('titanic_a14', keys)\n",
    "df = output_data.to_dataframe() "
   ]
  },
  {
   "cell_type": "markdown",
   "metadata": {},
   "source": [
    "---\n",
    "# Engineer your features"
   ]
  },
  {
   "cell_type": "code",
   "execution_count": null,
   "metadata": {},
   "outputs": [],
   "source": [
    "df['FamSize'] = df['SibSp'] + df['Parch']\n",
    "\n",
    "mapping_fam_size = {0: 0, 1: .25, 2: .5, 3: .75, 4: 1, 5: 1.25, 6: 1.5, 7: 1.75, 8: 2, 9: 2.25, 10: 2.5, 11: 2.75, 12: 3}\n",
    "mapping_sex = {'male': 0, 'female': 1}\n",
    "mapping_cabin = {'A': 0, 'B': .5, 'C': 1, 'D': 1.5, 'E': 2, 'F': 2.5, 'G': 3, 'T': 3.5}\n",
    "\n",
    "df['Sex'] = df['Sex'].map(mapping_sex)\n",
    "    \n",
    "df['Cabin'] = df['Cabin'].str[:1]\n",
    "df['Cabin'] = df['Cabin'].map(mapping_cabin)\n",
    "\n",
    "df['FamSize'] = df['FamSize'].map(mapping_fam_size)\n",
    "\n",
    "df.loc[df['Fare'] <= 20, 'Fare'] = 0,\n",
    "df.loc[(df['Fare'] > 20) & (df['Fare'] <= 40), 'Fare'] = 1,\n",
    "df.loc[(df['Fare'] > 40) & (df['Fare'] <= 100), 'Fare'] = 2,\n",
    "df.loc[df['Fare'] > 100, 'Fare'] = 3\n",
    "\n",
    "df.loc[df['Age'] <= 17, 'Age'] = 0,\n",
    "df.loc[(df['Age'] > 17) & (df['Age'] <= 30), 'Age'] = 1,\n",
    "df.loc[(df['Age'] > 30) & (df['Age'] <= 40), 'Age'] = 2,\n",
    "df.loc[(df['Age'] > 40) & (df['Age'] <= 50), 'Age'] = 3,\n",
    "df.loc[(df['Age'] > 50) & (df['Age'] <= 60), 'Age'] = 4,\n",
    "df.loc[df['Age'] > 60, 'Age'] = 5\n",
    "    \n",
    "df['Cabin'].fillna(df.groupby('Pclass')['Cabin'].transform('median'), inplace=True)\n",
    "\n",
    "df.fillna(2, inplace=True)\n",
    "\n",
    "\n",
    "pass_ids = df['PassengerId']    \n",
    "features_to_drop = ['Ticket', 'SibSp', 'Parch', 'Name', 'Embarked', 'PassengerId']\n",
    "df = df.drop(features_to_drop, axis=1)"
   ]
  },
  {
   "cell_type": "markdown",
   "metadata": {},
   "source": [
    "--- \n",
    "# Save your featurized data back into Zetabase "
   ]
  },
  {
   "cell_type": "code",
   "execution_count": null,
   "metadata": {},
   "outputs": [],
   "source": [
    "zb.put_dataframe('titanic_a14', df, 'feat')"
   ]
  },
  {
   "cell_type": "markdown",
   "metadata": {},
   "source": [
    "# Retrieve only the featurized data and split it into training and testing groups"
   ]
  },
  {
   "cell_type": "code",
   "execution_count": null,
   "metadata": {},
   "outputs": [],
   "source": [
    "from sklearn.model_selection import train_test_split\n",
    "\n",
    "list_keys = zb.list_keys_with_pattern('titanic_a14', 'feat/%')\n",
    "keys = [key for key in list_keys]\n",
    "\n",
    "data_feat = zb.get('titanic_a14', keys)\n",
    "df_new = data_feat.to_dataframe()\n",
    "\n",
    "x = df_new[['Pclass', 'Sex', 'Age', 'Fare', 'Cabin', 'FamSize']]\n",
    "y = df_new['Survived']\n",
    "\n",
    "x_train, x_test, y_train, y_test = train_test_split(x, y, test_size=0.25)"
   ]
  },
  {
   "cell_type": "markdown",
   "metadata": {},
   "source": [
    "---\n",
    "# Create and fit your model to the training data "
   ]
  },
  {
   "cell_type": "code",
   "execution_count": null,
   "metadata": {},
   "outputs": [],
   "source": [
    "from sklearn import ensemble \n",
    "\n",
    "gb_clf = ensemble.GradientBoostingClassifier()\n",
    "\n",
    "gb_clf.fit(x_train, y_train)"
   ]
  },
  {
   "cell_type": "markdown",
   "metadata": {},
   "source": [
    "---\n",
    "# Save your model to Zetabase  "
   ]
  },
  {
   "cell_type": "code",
   "execution_count": null,
   "metadata": {},
   "outputs": [],
   "source": [
    "import _pickle as cPickle \n",
    "\n",
    "model_to_save = cPickle.dumps(gb_clf)\n",
    "zb.put_data('mlModels', 'titanic_gb_clf', model_to_save, overwrite=True)"
   ]
  },
  {
   "cell_type": "markdown",
   "metadata": {},
   "source": [
    "---\n",
    "\n",
    "# Reload your pre-trained model "
   ]
  },
  {
   "cell_type": "code",
   "execution_count": null,
   "metadata": {},
   "outputs": [],
   "source": [
    "key = 'titanic_gb_clf'\n",
    "get_model = zb.get('mlModels', [key])\n",
    "pickled_model = get_model.data()\n",
    "titanic_clf = cPickle.loads(pickled_model[key])"
   ]
  },
  {
   "cell_type": "markdown",
   "metadata": {},
   "source": [
    "# Make predictions with your model"
   ]
  },
  {
   "cell_type": "code",
   "execution_count": null,
   "metadata": {},
   "outputs": [],
   "source": [
    "df_new = df_new.drop(['Survived'], axis=1)\n",
    "prediction = titanic_clf.predict(df_new).copy()\n",
    "results = pd.DataFrame({\n",
    "    'PassengerId': pass_ids,\n",
    "    'Survived': prediction\n",
    "})\n",
    "\n",
    "print(results)"
   ]
  },
  {
   "cell_type": "markdown",
   "metadata": {},
   "source": [
    "# Save your predictions to a new table "
   ]
  },
  {
   "cell_type": "code",
   "execution_count": null,
   "metadata": {},
   "outputs": [],
   "source": [
    "zb.put_dataframe_new_table('titanic_preds1', results, 'preds')"
   ]
  }
 ],
 "metadata": {
  "kernelspec": {
   "display_name": "Python 3",
   "language": "python",
   "name": "python3"
  },
  "language_info": {
   "codemirror_mode": {
    "name": "ipython",
    "version": 3
   },
   "file_extension": ".py",
   "mimetype": "text/x-python",
   "name": "python",
   "nbconvert_exporter": "python",
   "pygments_lexer": "ipython3",
   "version": "3.6.5"
  }
 },
 "nbformat": 4,
 "nbformat_minor": 2
}
